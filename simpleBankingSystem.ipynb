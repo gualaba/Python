{
  "nbformat": 4,
  "nbformat_minor": 0,
  "metadata": {
    "colab": {
      "name": "simpleBankingSystem.ipynb",
      "provenance": [],
      "collapsed_sections": [
        "maDQ5nVha9cy",
        "Fb4jIGQxrugF",
        "afgzs2izlpQb",
        "KPBUe2A-gTTj",
        "QezAVSJXuenO",
        "yxBgRnU-vTOv"
      ],
      "authorship_tag": "ABX9TyOLiTbtDNlvCV1q+ht/cswx",
      "include_colab_link": true
    },
    "kernelspec": {
      "name": "python3",
      "display_name": "Python 3"
    },
    "language_info": {
      "name": "python"
    }
  },
  "cells": [
    {
      "cell_type": "markdown",
      "metadata": {
        "id": "view-in-github",
        "colab_type": "text"
      },
      "source": [
        "<a href=\"https://colab.research.google.com/github/gualaba/Python/blob/main/simpleBankingSystem.ipynb\" target=\"_parent\"><img src=\"https://colab.research.google.com/assets/colab-badge.svg\" alt=\"Open In Colab\"/></a>"
      ]
    },
    {
      "cell_type": "markdown",
      "source": [
        "# **Gustavo's solution to VeriTran's coding assignment**\n",
        "\n"
      ],
      "metadata": {
        "id": "4qJHaxqVWq7e"
      }
    },
    {
      "cell_type": "markdown",
      "source": [
        "## **VeriTran's Code Exercise**\n",
        "\n",
        "Your mission is to create a simple banking system. Think about your personal bank account experience. When in doubt, go for the simplest solution. You don’t need to create any kind of user interface or make these features available through any server.\n",
        "\n",
        "The exercise evolves as a sequence of iterations. Try to complete each iteration before reading the next one."
      ],
      "metadata": {
        "id": "jxg_MJffWk1E"
      }
    },
    {
      "cell_type": "markdown",
      "source": [
        "##**Iteration 1: Add the deposit feature**"
      ],
      "metadata": {
        "id": "maDQ5nVha9cy"
      }
    },
    {
      "cell_type": "markdown",
      "source": [
        "![image.png](data:image/png;base64,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)"
      ],
      "metadata": {
        "id": "E0nZg8iTmOTZ"
      }
    },
    {
      "cell_type": "code",
      "source": [
        "class Account():\n",
        "  def __init__(self, account_id, client_id, balance = 100):\n",
        "    self.account_id = account_id\n",
        "    self.client_id = client_id\n",
        "    self.balance = balance\n",
        "\n",
        "  def deposit(self, amount):\n",
        "    self.amount = amount\n",
        "    self.balance = self.balance + self.amount\n",
        "\n",
        "  def check_balance(self):\n",
        "    print(\"Account balance:\", self.balance, \"USD\")\n",
        "\n",
        "# Main program\n",
        "\n",
        "account_id = \"f062022\"\n",
        "client_id = \"francisco\"\n",
        "\n",
        "account = Account(account_id, client_id)\n",
        "\n",
        "amount = int(input(\"Hi \" + client_id + \", write the amount to deposit in your account: \"))\n",
        "\n",
        "account.deposit(amount)\n",
        "account.check_balance()\n"
      ],
      "metadata": {
        "colab": {
          "base_uri": "https://localhost:8080/"
        },
        "id": "ZWFhebNYn2fo",
        "outputId": "cf6b1257-e72d-4f87-e19d-3d62a694d002"
      },
      "execution_count": null,
      "outputs": [
        {
          "output_type": "stream",
          "name": "stdout",
          "text": [
            "Hi francisco, write the amount to deposit in your account: 10\n",
            "Account balance: 110 USD\n"
          ]
        }
      ]
    },
    {
      "cell_type": "markdown",
      "source": [
        "##**Iteration 2: Update the deposit feature**"
      ],
      "metadata": {
        "id": "Fb4jIGQxrugF"
      }
    },
    {
      "cell_type": "markdown",
      "source": [
        "Currently, users can deposit negative amounts of money, which does not make sense. Add a new test case to fix this issue."
      ],
      "metadata": {
        "id": "-1BSJFEMr5GR"
      }
    },
    {
      "cell_type": "code",
      "source": [
        "class Account():\n",
        "  def __init__(self, account_id, client_id, balance = 100):\n",
        "    self.account_id = account_id\n",
        "    self.client_id = client_id\n",
        "    self.balance = balance\n",
        "\n",
        "  def deposit(self, amount):\n",
        "    self.amount = amount\n",
        "    self.balance = self.balance + self.amount\n",
        " \n",
        "  def check_balance(self):\n",
        "    print(\"Account balance:\", self.balance, \"USD\")\n",
        "\n",
        "# Main program\n",
        "\n",
        "account_id = \"f062022\"\n",
        "client_id = \"francisco\"\n",
        "\n",
        "account = Account(account_id, client_id)\n",
        "\n",
        "while True:\n",
        "  amount = input(\"Hi \" + client_id + \", write the amount to deposit in your account: \")\n",
        "  try:\n",
        "    amount = float(amount)\n",
        "  except:\n",
        "    print(\"Please use only numeric digits.\")\n",
        "    continue\n",
        "  if amount < 0:\n",
        "    print(\"You can't deposit a negative amount. Please, try again.\")\n",
        "    continue\n",
        "  break\n",
        "\n",
        "account.deposit(amount)\n",
        "account.check_balance()"
      ],
      "metadata": {
        "colab": {
          "base_uri": "https://localhost:8080/"
        },
        "id": "CSuXzAser-r5",
        "outputId": "f4f3e173-c426-4703-80b7-14862f6cd2e9"
      },
      "execution_count": null,
      "outputs": [
        {
          "output_type": "stream",
          "name": "stdout",
          "text": [
            "Hi francisco, write the amount to deposit in your account: 123.6\n",
            "Account balance: 223.6 USD\n"
          ]
        }
      ]
    },
    {
      "cell_type": "markdown",
      "source": [
        "##**Iteration 3: Add the withdrawal feature**"
      ],
      "metadata": {
        "id": "afgzs2izlpQb"
      }
    },
    {
      "cell_type": "markdown",
      "source": [
        "![image.png](data:image/png;base64,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)"
      ],
      "metadata": {
        "id": "sKANyKYRmGWA"
      }
    },
    {
      "cell_type": "code",
      "source": [
        "import sys\n",
        "\n",
        "class Account():\n",
        "  def __init__(self, account_id, client_id, balance = 100):\n",
        "    self.account_id = account_id\n",
        "    self.client_id = client_id\n",
        "    self.balance = balance\n",
        "\n",
        "  def validate_amount(self):\n",
        "    while True:\n",
        "      amount = input(\"Hi \" + client_id + \", write the amount: \")\n",
        "      try:\n",
        "        amount = float(amount)\n",
        "      except:\n",
        "        print(\"Please use only numeric digits!\")\n",
        "        continue\n",
        "      if amount < 0:\n",
        "        print(\"You can't enter a negative amount!\")\n",
        "        continue\n",
        "      break\n",
        "    return amount\n",
        "\n",
        "  def deposit(self, amount):\n",
        "    self.amount = amount\n",
        "    self.balance = self.balance + self.amount\n",
        "\n",
        "  def withdraw(self, amount):\n",
        "    self.amount = amount\n",
        "    self.balance = self.balance - self.amount\n",
        " \n",
        "  def check_balance(self):\n",
        "    print(\"Account balance:\", self.balance, \"USD\")\n",
        "\n",
        "# Main program\n",
        "\n",
        "account_id = \"f062022\"\n",
        "client_id = \"francisco\"\n",
        "\n",
        "account = Account(account_id, client_id)\n",
        "\n",
        "print(\"1.Deposit\\n2.Withdraw\\n3.Salir\")\n",
        "while True:\n",
        "  try:\n",
        "    option = int(input(\"Select a transaction: \"))\n",
        "  except:\n",
        "    print(\"You must select a menu option\")\n",
        "    continue\n",
        "  else:\n",
        "    if option == 1:\n",
        "      print(\"Transactional Portal | Deposits\")\n",
        "      validated_amount = account.validate_amount()\n",
        "      account.deposit(validated_amount)\n",
        "      account.check_balance()\n",
        "    elif option == 2:\n",
        "      print(\"Transactional Portal | Withdrawals\")\n",
        "      validated_amount = account.validate_amount()\n",
        "      account.withdraw(validated_amount)\n",
        "      account.check_balance()\n",
        "    elif option == 3:\n",
        "      sys.exit()"
      ],
      "metadata": {
        "id": "WjZ4i4BDmEGF"
      },
      "execution_count": null,
      "outputs": []
    },
    {
      "cell_type": "markdown",
      "source": [
        "##**Iteration 4: Cover border cases for the withdrawal feature**"
      ],
      "metadata": {
        "id": "KPBUe2A-gTTj"
      }
    },
    {
      "cell_type": "markdown",
      "source": [
        "Add a scenario in the withdrawal feature for the case when a withdrawal generates an overdraft. Withdrawal of amounts bigger than the current account balance must not be allowed."
      ],
      "metadata": {
        "id": "4Wi46bZTgahz"
      }
    },
    {
      "cell_type": "code",
      "source": [
        "import sys\n",
        "\n",
        "class Account():\n",
        "  def __init__(self, account_id, client_id, balance = 100):\n",
        "    self.account_id = account_id\n",
        "    self.client_id = client_id\n",
        "    self.balance = balance\n",
        "\n",
        "  def validate_amount(self):\n",
        "    while True:\n",
        "      amount = input(\"Hi \" + client_id + \", write the amount: \")\n",
        "      try:\n",
        "        amount = float(amount)\n",
        "      except:\n",
        "        print(\"Please use only numeric digits!\")\n",
        "        continue\n",
        "      if amount < 0:\n",
        "        print(\"You can't enter a negative amount!\")\n",
        "        continue\n",
        "      break\n",
        "    return amount\n",
        "\n",
        "  def deposit(self, amount):\n",
        "    self.amount = amount\n",
        "    self.balance = self.balance + self.amount\n",
        "\n",
        "  def withdraw(self, amount):\n",
        "    self.amount = amount\n",
        "    if self.amount > self.balance:\n",
        "      print(\"Insufficient Funds\")\n",
        "    else:\n",
        "      self.balance = self.balance - self.amount\n",
        "  \n",
        "  def check_balance(self):\n",
        "    print(\"Account balance:\", self.balance, \"USD\")\n",
        "\n",
        "# Main program\n",
        "\n",
        "account_id = \"f062022\"\n",
        "client_id = \"francisco\"\n",
        "\n",
        "account = Account(account_id, client_id)\n",
        "\n",
        "print(\"1.Deposit\\n2.Withdraw\\n3.Salir\")\n",
        "while True:\n",
        "  try:\n",
        "    option = int(input(\"Select a transaction: \"))\n",
        "  except:\n",
        "    print(\"You must select a menu option\")\n",
        "    continue\n",
        "  else:\n",
        "    if option == 1:\n",
        "      print(\"Transactional Portal | Deposits\")\n",
        "      validated_amount = account.validate_amount()\n",
        "      account.deposit(validated_amount)\n",
        "      account.check_balance()\n",
        "    elif option == 2:\n",
        "      print(\"Transactional Portal | Withdrawals\")\n",
        "      validated_amount = account.validate_amount()\n",
        "      account.withdraw(validated_amount)\n",
        "      account.check_balance()\n",
        "    elif option == 3:\n",
        "      sys.exit()"
      ],
      "metadata": {
        "id": "INZfgd4Oj0MS"
      },
      "execution_count": null,
      "outputs": []
    },
    {
      "cell_type": "markdown",
      "source": [
        "##**Iteration 5: Update the withdrawal feature**"
      ],
      "metadata": {
        "id": "QezAVSJXuenO"
      }
    },
    {
      "cell_type": "markdown",
      "source": [
        "Check whether it is possible to withdraw a negative value. If it is possible, fix it. Add the corresponding test case to fix this issue."
      ],
      "metadata": {
        "id": "OKGYv_tiulQ4"
      }
    },
    {
      "cell_type": "code",
      "source": [
        "import sys\n",
        "\n",
        "class Account():\n",
        "  def __init__(self, account_id, client_id, balance = 100):\n",
        "    self.account_id = account_id\n",
        "    self.client_id = client_id\n",
        "    self.balance = balance\n",
        "\n",
        "  def validate_amount(self):\n",
        "    while True:\n",
        "      amount = input(\"Hi \" + client_id + \", write the amount: \")\n",
        "      try:\n",
        "        amount = float(amount)\n",
        "      except:\n",
        "        print(\"Please use only numeric digits!\")\n",
        "        continue\n",
        "      if amount < 0:\n",
        "        print(\"You can't enter a negative amount!\")\n",
        "        continue\n",
        "      break\n",
        "    return amount\n",
        "\n",
        "  def deposit(self, amount):\n",
        "    self.amount = amount\n",
        "    self.balance = self.balance + self.amount\n",
        "\n",
        "  def withdraw(self, amount):\n",
        "    self.amount = amount\n",
        "    if self.amount > self.balance:\n",
        "      print(\"Insufficient Funds\")\n",
        "    else:\n",
        "      self.balance = self.balance - self.amount\n",
        "  \n",
        "  def check_balance(self):\n",
        "    print(\"Account balance:\", self.balance, \"USD\")\n",
        "\n",
        "# Main program\n",
        "\n",
        "account_id = \"f062022\"\n",
        "client_id = \"francisco\"\n",
        "\n",
        "account = Account(account_id, client_id)\n",
        "\n",
        "print(\"1.Deposit\\n2.Withdraw\\n3.Salir\")\n",
        "while True:\n",
        "  try:\n",
        "    option = int(input(\"Select a transaction: \"))\n",
        "  except:\n",
        "    print(\"You must select a menu option\")\n",
        "    continue\n",
        "  else:\n",
        "    if option == 1:\n",
        "      print(\"Transactional Portal | Deposits\")\n",
        "      validated_amount = account.validate_amount()\n",
        "      account.deposit(validated_amount)\n",
        "      account.check_balance()\n",
        "    elif option == 2:\n",
        "      print(\"Transactional Portal | Withdrawals\")\n",
        "      validated_amount = account.validate_amount()\n",
        "      account.withdraw(validated_amount)\n",
        "      account.check_balance()\n",
        "    elif option == 3:\n",
        "      sys.exit()"
      ],
      "metadata": {
        "id": "LUKZ3WaTuxZd"
      },
      "execution_count": null,
      "outputs": []
    },
    {
      "cell_type": "markdown",
      "source": [
        "##**Retrospective**"
      ],
      "metadata": {
        "id": "yxBgRnU-vTOv"
      }
    },
    {
      "cell_type": "markdown",
      "source": [
        "**¿Está al día con los requisitos?**\n",
        "\n",
        "Si, hasta esta etapa de la solución del ejercicio he ido validando que se haya dado cumplimiento a cada uno de los requisitos exigidos. También, he ido realizando pruebas que permitan evidenciar posibles errores en el programa y, las que he realizado hasta ahora, han sido superadas por el sistema bancario creado.\n",
        "\n",
        "**¿Alguna iteración ha supuesto un gran reto?**\n",
        "\n",
        "Si, particularmente la iteración 3, cuando implementé la función de retiros. En ese punto realicé algunas modificaciones al código que me costó un poco de trabajo implementar, entre ellas, crear la función de validación de montos, la cual, permite que no se ingresen valores negativos ni caracteres diferentes a números en las transacciones.\n",
        "\n",
        "**¿Te sientes bien con tu diseño?**\n",
        "\n",
        "Sí, me siento bien con mi diseño. Considero que he aplicado algunos conceptos de buenas prácticas y he tratado de elaborarlo de manera organizada, lo cual hace que el código sea fácilmente comprensible y mejorable para futuras versiones.\n",
        "\n",
        "**¿Es escalable y se adapta fácilmente a los nuevos requisitos que surjan en las siguientes iteraciones?**\n",
        "\n",
        "Si, considero que el programa creado se adapta fácilmente a los nuevos requisitos que surjan en las siguientes iteraciones, ya que, sus diferentes funcionalidades fueron creadas por medio de funciones y utilizando el paradigma de programación orientada a objetos. Esto, permite que al programa se le puedan añadir y/o modificar funciones de manera sencilla y sin romper mucho las demás partes, dándole un componente de modularidad.\n",
        "\n",
        "**¿Está todo probado? ¿Confías en tus pruebas?**\n",
        "\n",
        "Sí, el programa creado ha sido probado teniendo en cuenta los requerimientos solicitados en cada iteración. Las pruebas realizadas me generan confianza ya que los resultados de las mismas evidenciaron el buen funcionamiento del código. Cabe aclarar que, el programa creado está sujeto a mejoras para optimizar su funcionalidad.\n"
      ],
      "metadata": {
        "id": "bdQcY86zvYTX"
      }
    },
    {
      "cell_type": "markdown",
      "source": [
        "##**Iteration 6: Add the transfer feature**"
      ],
      "metadata": {
        "id": "pjago6s0pxTv"
      }
    },
    {
      "cell_type": "markdown",
      "source": [
        "From now on, users will be able to transfer money from their account to the account of another user. Add this feature. First write a user story for it. Write the scenarios for the main case, but also write scenarios for border cases, such as: can one transfer money one doesn't have? There may be others."
      ],
      "metadata": {
        "id": "m3X4acWHqH9I"
      }
    },
    {
      "cell_type": "markdown",
      "source": [
        "**User story:**\n",
        "\n",
        "**Feature: Transfer money to another user**\n",
        "\n",
        "As a client of the bank\n",
        "\n",
        "I want to transfer money to another user's account\n",
        "\n",
        "In order to increase the amount of money in another user's account\n",
        "\n",
        "**Scenario:** **An** existing client enter the data of another user to make a transfer\n",
        " \n",
        "  **Given** the account_id, user_id and amount to be transferred from the client's account \"francisco\"\n",
        "  \n",
        "  **When** he enter a transfer amount of 10 USD\n",
        "  \n",
        "  **Then** the balance in franciso's account should decrease to 90 USD and the balance in the another user's account should increase to 110 USD\n",
        "\n"
      ],
      "metadata": {
        "id": "dkHObP-oRBMB"
      }
    },
    {
      "cell_type": "code",
      "source": [
        "import sys\n",
        "\n",
        "class Account():\n",
        "    # Inicializa los atributos de la clase cuenta\n",
        "    def __init__(self, account_id, client_id, balance=100):\n",
        "        self.account_id = account_id\n",
        "        self.client_id = client_id\n",
        "        self.balance = balance\n",
        "\n",
        "    # Función para validar que se ingrese en el monto un valor numérico y positivo\n",
        "    def validate_amount(self):\n",
        "        while True:\n",
        "            amount = input(\"Hi \" + client_id + \", write the amount: \")\n",
        "            try:\n",
        "                amount = float(amount) # Valida que el monto digitado sea un valor numérico entero o decimal\n",
        "            except:\n",
        "                print(\"Please use only numeric digits!\") # Excepción que valida que no se ingresen caracteres diferentes a números en el monto\n",
        "                continue\n",
        "            if amount < 0: # Valida si el monto digitado es un valor positivo\n",
        "                print(\"You can't enter a negative amount!\")\n",
        "                continue\n",
        "            break\n",
        "        return amount\n",
        "\n",
        "    # Función para depósitos a cuenta del cliente\n",
        "    def deposit(self, amount):\n",
        "        self.amount = amount\n",
        "        self.balance = self.balance + self.amount # Incrementa al saldo en la cuenta del cliente el monto depositado\n",
        "\n",
        "    # Función para retiros de cuenta del cliente\n",
        "    def withdraw(self, amount):\n",
        "        self.amount = amount\n",
        "        if self.amount > self.balance: # Valida que el monto a retirar no sea mayor que el saldo en la cuenta del cliente\n",
        "            print(\"Insufficient Funds\")\n",
        "        else:\n",
        "            self.balance = self.balance - self.amount # Decrementa al saldo en la cuenta del cliente el monto retirado\n",
        "\n",
        "    # Función para transferencias a otro usuario\n",
        "    def transfer(self, amount):\n",
        "        self.amount = amount\n",
        "        if self.amount > self.balance: # Valida si el monto a transferir es mayor que el saldo en la cuenta del cliente\n",
        "            print(\"Insufficient Funds\")\n",
        "        else:\n",
        "            self.withdraw(amount) # Retira de la cuenta del usuario titular el monto a transferir\n",
        "            another_user_account.deposit(amount) # Deposita en la cuenta del otro usuario el monto a transferir\n",
        "\n",
        "    def check_balance(self): # Función para consultar el saldo en la cuenta del cliente\n",
        "        return self.balance\n",
        "\n",
        "# Main program\n",
        "\n",
        "# Datos del cliente para el ejercicio\n",
        "client_account_id = \"f062022\"\n",
        "client_id = \"francisco\"\n",
        "\n",
        "# Cuando se requiera crear mas usuarios y realizar transferencias entre ellos, se habilita la captura de datos del cliente titular\n",
        "#client_account_id = input(\"Enter your client account id: \")  # Ingresar Id de cuenta del titular\n",
        "#client_id = input(\"Enter your client id: \")  # Ingresar Id del cliente titular de la cuenta\n",
        "account = Account(client_account_id, client_id)  # Objeto de la clase cuenta para usuario titular\n",
        "\n",
        "# Menú de opciones Portal Transaccional\n",
        "print(\"1.Deposit\\n2.Withdraw\\n3.Transfers\\n4.Salir\")\n",
        "while True:\n",
        "    try:\n",
        "        option = int(input(\"Select a transaction: \")) # Seleccionar una opción del menú ingresando un número entero\n",
        "    except:\n",
        "        print(\"You must select a menu option\") # Excepción si no se selecciona una opción del menú o no se digita un número entero\n",
        "        continue\n",
        "    else:\n",
        "        if option == 1:\n",
        "            # Portal Transaccional | Depositos\n",
        "            print(\"Transactional Portal | Deposits\")\n",
        "            validated_amount = account.validate_amount() # Valida si se ingrese en el monto un valor numérico y positivo\n",
        "            account.deposit(validated_amount) # Se asigna el monto validado a la fución de Deposito\n",
        "            print(\"Account balance:\", account.check_balance(), \"USD\") # Muestra el saldo actual en la cuenta del cliente\n",
        "\n",
        "        elif option == 2:\n",
        "            # Portal Transaccional | Retiros\n",
        "            print(\"Transactional Portal | Withdrawals\")\n",
        "            validated_amount = account.validate_amount() # Valida si se ingrese en el monto un valor numérico y positivo\n",
        "            account.withdraw(validated_amount) # Se asigna el monto validado a la fución de Retiro\n",
        "            print(\"Account balance:\", account.check_balance(), \"USD\") # Muestra el saldo actual en la cuenta del cliente\n",
        "\n",
        "        elif option == 3:\n",
        "            # Portal Transaccional | Transferencias\n",
        "            print(\"Transactional Portal | Transfers\")\n",
        "            # Datos del otro usuario\n",
        "            another_user_account_id = input(\"Enter another user's account id: \")  # Id de la cuenta del otro usuario\n",
        "            another_user_id = input(\"Enter another user's id: \")  # Id del otro usuario\n",
        "            another_user_account = Account(another_user_account_id, another_user_id)  # Objeto de la clase cuenta para otro usuario\n",
        "\n",
        "            print(\"Balance in your client account\", account.check_balance(),\"USD\") # Muestra el saldo disponible en la cuenta del cliente para transferir\n",
        "            print(\"Balance in another user's account\", another_user_account.check_balance(),\"USD\") # Muestra el saldo de la cuenta del otro usuario (como ejemplo para el ejercicio)\n",
        "            validated_amount = account.validate_amount() # Se valida si el valor ingresa\n",
        "            account.transfer(validated_amount) # Valida si se ingrese en el monto un valor numérico y positivo\n",
        "            print(\"Balance in your client account\", account.check_balance(),\"USD\")# Muestra el saldo de la cuenta del cliente despues de la transferencia\n",
        "            print(\"Balance in another user's account\", another_user_account.check_balance(),\"USD\") # Muestra el saldo de la cuenta del otro usuario despues de la transferencia (como ejemplo)\n",
        "\n",
        "        elif option == 4:\n",
        "            sys.exit() # Salir del programa"
      ],
      "metadata": {
        "id": "J-ZXVTCF6BMq"
      },
      "execution_count": null,
      "outputs": []
    }
  ]
}